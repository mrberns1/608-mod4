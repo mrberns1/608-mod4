{
 "cells": [
  {
   "cell_type": "code",
   "execution_count": 1,
   "id": "6c87ab6b-9163-4e02-a97c-1fcb2a2ddb1f",
   "metadata": {},
   "outputs": [],
   "source": [
    "country_codes = {'Finland': 'fi', 'South Africa': 'za', 'Nepal': 'np'}"
   ]
  },
  {
   "cell_type": "code",
   "execution_count": 2,
   "id": "cbd4ee2b-5f02-4d2a-b360-d90ee66d02da",
   "metadata": {},
   "outputs": [
    {
     "data": {
      "text/plain": [
       "{'Finland': 'fi', 'South Africa': 'za', 'Nepal': 'np'}"
      ]
     },
     "execution_count": 2,
     "metadata": {},
     "output_type": "execute_result"
    }
   ],
   "source": [
    "country_codes"
   ]
  },
  {
   "cell_type": "code",
   "execution_count": 3,
   "id": "b2681b69-6ddf-45ce-bb35-d83eaff9d47f",
   "metadata": {},
   "outputs": [
    {
     "data": {
      "text/plain": [
       "3"
      ]
     },
     "execution_count": 3,
     "metadata": {},
     "output_type": "execute_result"
    }
   ],
   "source": [
    "len(country_codes)"
   ]
  },
  {
   "cell_type": "code",
   "execution_count": 4,
   "id": "afc26f16-6d89-49bc-8967-930debea111f",
   "metadata": {},
   "outputs": [
    {
     "name": "stdout",
     "output_type": "stream",
     "text": [
      "country_codes is not empty\n"
     ]
    }
   ],
   "source": [
    "if country_codes:\n",
    "    print('country_codes is not empty')\n",
    "else:\n",
    "    print('country_codes is empty')"
   ]
  },
  {
   "cell_type": "code",
   "execution_count": 5,
   "id": "09347ede-351e-4776-b4c9-50c0a9a320ed",
   "metadata": {},
   "outputs": [],
   "source": [
    "country_codes.clear()"
   ]
  },
  {
   "cell_type": "code",
   "execution_count": 6,
   "id": "29aa01ec-9091-4a47-b231-87f72b10c0ec",
   "metadata": {},
   "outputs": [
    {
     "name": "stdout",
     "output_type": "stream",
     "text": [
      "country_codes is empty\n"
     ]
    }
   ],
   "source": [
    "if country_codes:\n",
    "    print('country_codes is not empty')\n",
    "else:\n",
    "    print('country_codes is empty')"
   ]
  },
  {
   "cell_type": "code",
   "execution_count": 7,
   "id": "449893b8-d17f-457a-8c0d-61b031656460",
   "metadata": {},
   "outputs": [],
   "source": [
    "#self checks"
   ]
  },
  {
   "cell_type": "code",
   "execution_count": 8,
   "id": "078f5797-0b98-4770-a2cf-215b1bd39985",
   "metadata": {},
   "outputs": [],
   "source": [
    "states = {'VT': 'Vermont', 'NH': 'New Hampshire', 'MA': 'Massachusetts'}"
   ]
  },
  {
   "cell_type": "code",
   "execution_count": 9,
   "id": "4a54d8a1-769d-438b-ab90-92331b2c1963",
   "metadata": {},
   "outputs": [
    {
     "data": {
      "text/plain": [
       "{'VT': 'Vermont', 'NH': 'New Hampshire', 'MA': 'Massachusetts'}"
      ]
     },
     "execution_count": 9,
     "metadata": {},
     "output_type": "execute_result"
    }
   ],
   "source": [
    "states"
   ]
  },
  {
   "cell_type": "code",
   "execution_count": 10,
   "id": "0d663977-ff8b-41d7-a168-94f1f4825151",
   "metadata": {},
   "outputs": [],
   "source": [
    "#6.2.2"
   ]
  },
  {
   "cell_type": "code",
   "execution_count": 11,
   "id": "3b25a722-0167-4a59-95f1-49114ccf5b9f",
   "metadata": {},
   "outputs": [],
   "source": [
    "days_per_month = {'January': 31, 'February': 28, 'March': 31}"
   ]
  },
  {
   "cell_type": "code",
   "execution_count": 12,
   "id": "6a24c443-95d3-46e4-92a5-93f1f536c651",
   "metadata": {},
   "outputs": [
    {
     "data": {
      "text/plain": [
       "{'January': 31, 'February': 28, 'March': 31}"
      ]
     },
     "execution_count": 12,
     "metadata": {},
     "output_type": "execute_result"
    }
   ],
   "source": [
    "days_per_month"
   ]
  },
  {
   "cell_type": "code",
   "execution_count": 13,
   "id": "aefc9d87-8920-49bb-858e-f67336724f05",
   "metadata": {},
   "outputs": [
    {
     "name": "stdout",
     "output_type": "stream",
     "text": [
      "January has 31 days\n",
      "February has 28 days\n",
      "March has 31 days\n"
     ]
    }
   ],
   "source": [
    "for month, days in days_per_month.items():\n",
    "    print(f'{month} has {days} days')"
   ]
  },
  {
   "cell_type": "code",
   "execution_count": 14,
   "id": "503481ad-713f-4fe7-909a-6772b94ee1cc",
   "metadata": {},
   "outputs": [],
   "source": [
    "#6.2.3"
   ]
  },
  {
   "cell_type": "code",
   "execution_count": 15,
   "id": "754253f9-d53f-4755-8c7e-da7babbc7e60",
   "metadata": {},
   "outputs": [],
   "source": [
    "roman_numerals = {'I': 1, 'II': 2, 'III': 3, 'V': 5, 'X': 100}"
   ]
  },
  {
   "cell_type": "code",
   "execution_count": 16,
   "id": "68c154d7-3551-4620-ae6c-7eeecd292ac9",
   "metadata": {},
   "outputs": [
    {
     "data": {
      "text/plain": [
       "{'I': 1, 'II': 2, 'III': 3, 'V': 5, 'X': 100}"
      ]
     },
     "execution_count": 16,
     "metadata": {},
     "output_type": "execute_result"
    }
   ],
   "source": [
    "roman_numerals"
   ]
  },
  {
   "cell_type": "code",
   "execution_count": 17,
   "id": "c5ea2e12-4ba3-4afc-b334-76b9545e6f75",
   "metadata": {},
   "outputs": [
    {
     "data": {
      "text/plain": [
       "5"
      ]
     },
     "execution_count": 17,
     "metadata": {},
     "output_type": "execute_result"
    }
   ],
   "source": [
    "roman_numerals['V']"
   ]
  },
  {
   "cell_type": "code",
   "execution_count": 18,
   "id": "40f20414-51c0-4a0a-bbe6-fc429c2e8a9b",
   "metadata": {},
   "outputs": [],
   "source": [
    "roman_numerals['X'] = 10"
   ]
  },
  {
   "cell_type": "code",
   "execution_count": 19,
   "id": "56b58f7e-2b15-4102-87b1-608c3b1ddee2",
   "metadata": {},
   "outputs": [
    {
     "data": {
      "text/plain": [
       "{'I': 1, 'II': 2, 'III': 3, 'V': 5, 'X': 10}"
      ]
     },
     "execution_count": 19,
     "metadata": {},
     "output_type": "execute_result"
    }
   ],
   "source": [
    "roman_numerals"
   ]
  },
  {
   "cell_type": "code",
   "execution_count": 20,
   "id": "9f3574ac-2c6e-4a75-bdfb-8a295673eb51",
   "metadata": {},
   "outputs": [],
   "source": [
    "roman_numerals['L'] = 50"
   ]
  },
  {
   "cell_type": "code",
   "execution_count": 21,
   "id": "1bc3c0bc-73ba-4ac4-b150-76c6e164b64a",
   "metadata": {},
   "outputs": [
    {
     "data": {
      "text/plain": [
       "{'I': 1, 'II': 2, 'III': 3, 'V': 5, 'X': 10, 'L': 50}"
      ]
     },
     "execution_count": 21,
     "metadata": {},
     "output_type": "execute_result"
    }
   ],
   "source": [
    "roman_numerals"
   ]
  },
  {
   "cell_type": "code",
   "execution_count": 22,
   "id": "6a02f5b0-f22c-4654-8c2e-008b5effc33a",
   "metadata": {},
   "outputs": [],
   "source": [
    "del roman_numerals['III']"
   ]
  },
  {
   "cell_type": "code",
   "execution_count": 23,
   "id": "6956575c-cd9f-45cb-ae4f-a49ea3dad2fa",
   "metadata": {},
   "outputs": [
    {
     "data": {
      "text/plain": [
       "{'I': 1, 'II': 2, 'V': 5, 'X': 10, 'L': 50}"
      ]
     },
     "execution_count": 23,
     "metadata": {},
     "output_type": "execute_result"
    }
   ],
   "source": [
    "roman_numerals"
   ]
  },
  {
   "cell_type": "code",
   "execution_count": 24,
   "id": "d62f6923-5c78-4c0a-aa2f-8a00a167ce1e",
   "metadata": {},
   "outputs": [
    {
     "data": {
      "text/plain": [
       "10"
      ]
     },
     "execution_count": 24,
     "metadata": {},
     "output_type": "execute_result"
    }
   ],
   "source": [
    "roman_numerals.pop('X')"
   ]
  },
  {
   "cell_type": "code",
   "execution_count": 25,
   "id": "ef85bbdc-40cd-4b19-808f-252eec049f1b",
   "metadata": {},
   "outputs": [
    {
     "data": {
      "text/plain": [
       "{'I': 1, 'II': 2, 'V': 5, 'L': 50}"
      ]
     },
     "execution_count": 25,
     "metadata": {},
     "output_type": "execute_result"
    }
   ],
   "source": [
    "roman_numerals"
   ]
  },
  {
   "cell_type": "code",
   "execution_count": 26,
   "id": "58c0321e-c693-4434-845f-91dab0dbbdc4",
   "metadata": {},
   "outputs": [
    {
     "ename": "KeyError",
     "evalue": "'III'",
     "output_type": "error",
     "traceback": [
      "\u001b[1;31m---------------------------------------------------------------------------\u001b[0m",
      "\u001b[1;31mKeyError\u001b[0m                                  Traceback (most recent call last)",
      "Cell \u001b[1;32mIn [26], line 1\u001b[0m\n\u001b[1;32m----> 1\u001b[0m \u001b[43mroman_numerals\u001b[49m\u001b[43m[\u001b[49m\u001b[38;5;124;43m'\u001b[39;49m\u001b[38;5;124;43mIII\u001b[39;49m\u001b[38;5;124;43m'\u001b[39;49m\u001b[43m]\u001b[49m\n",
      "\u001b[1;31mKeyError\u001b[0m: 'III'"
     ]
    }
   ],
   "source": [
    "roman_numerals['III']"
   ]
  },
  {
   "cell_type": "code",
   "execution_count": 27,
   "id": "d82c69ec-c4b7-40a5-a2f4-3d1faa6f7240",
   "metadata": {},
   "outputs": [],
   "source": [
    "roman_numerals.get('III')"
   ]
  },
  {
   "cell_type": "code",
   "execution_count": 28,
   "id": "45be8890-6f3e-4187-adba-44d06fb08a07",
   "metadata": {},
   "outputs": [
    {
     "data": {
      "text/plain": [
       "'III not in dictionary'"
      ]
     },
     "execution_count": 28,
     "metadata": {},
     "output_type": "execute_result"
    }
   ],
   "source": [
    "roman_numerals.get('III', 'III not in dictionary')"
   ]
  },
  {
   "cell_type": "code",
   "execution_count": 29,
   "id": "4abe3acf-9b01-4b1f-bd82-df644cf025b0",
   "metadata": {},
   "outputs": [
    {
     "data": {
      "text/plain": [
       "5"
      ]
     },
     "execution_count": 29,
     "metadata": {},
     "output_type": "execute_result"
    }
   ],
   "source": [
    "roman_numerals.get('V')"
   ]
  },
  {
   "cell_type": "code",
   "execution_count": 30,
   "id": "338d9929-b8dc-423d-b15b-1ae7a6db5bb6",
   "metadata": {},
   "outputs": [
    {
     "data": {
      "text/plain": [
       "True"
      ]
     },
     "execution_count": 30,
     "metadata": {},
     "output_type": "execute_result"
    }
   ],
   "source": [
    "'V' in roman_numerals"
   ]
  },
  {
   "cell_type": "code",
   "execution_count": 31,
   "id": "0e1f1e77-1314-42c5-9ce8-420cf650170b",
   "metadata": {},
   "outputs": [
    {
     "data": {
      "text/plain": [
       "False"
      ]
     },
     "execution_count": 31,
     "metadata": {},
     "output_type": "execute_result"
    }
   ],
   "source": [
    "'III' in roman_numerals"
   ]
  },
  {
   "cell_type": "code",
   "execution_count": 32,
   "id": "35d68690-242a-4813-b5a7-dda37c09e25d",
   "metadata": {},
   "outputs": [
    {
     "data": {
      "text/plain": [
       "True"
      ]
     },
     "execution_count": 32,
     "metadata": {},
     "output_type": "execute_result"
    }
   ],
   "source": [
    "'III' not in roman_numerals"
   ]
  },
  {
   "cell_type": "code",
   "execution_count": 33,
   "id": "c25b6272-f27b-4e71-94fa-790554fe4931",
   "metadata": {},
   "outputs": [],
   "source": [
    "#self checks"
   ]
  },
  {
   "cell_type": "code",
   "execution_count": 34,
   "id": "2dba9e7c-205e-49d0-93c2-9d2484d7253b",
   "metadata": {},
   "outputs": [],
   "source": [
    "roman_numerals = {'I': 1, 'II': 2, 'III': 3, 'V': 5, 'X': 100}"
   ]
  },
  {
   "cell_type": "code",
   "execution_count": 35,
   "id": "1936c42e-a626-4856-b7c1-cc22978c0c12",
   "metadata": {},
   "outputs": [],
   "source": [
    "roman_numerals['x'] = 10"
   ]
  },
  {
   "cell_type": "code",
   "execution_count": 36,
   "id": "9dad382a-2896-4371-92d5-262b9f2cb268",
   "metadata": {},
   "outputs": [
    {
     "data": {
      "text/plain": [
       "{'I': 1, 'II': 2, 'III': 3, 'V': 5, 'X': 100, 'x': 10}"
      ]
     },
     "execution_count": 36,
     "metadata": {},
     "output_type": "execute_result"
    }
   ],
   "source": [
    "roman_numerals"
   ]
  },
  {
   "cell_type": "code",
   "execution_count": 37,
   "id": "50a4dbc2-f064-4752-b6ad-d0ce661f0666",
   "metadata": {},
   "outputs": [],
   "source": [
    "#6.2.4"
   ]
  },
  {
   "cell_type": "code",
   "execution_count": 38,
   "id": "9c60c399-a619-42ad-92d1-09b0a33e93c1",
   "metadata": {},
   "outputs": [],
   "source": [
    "months = {'January': 1, 'February': 2, 'March': 3}"
   ]
  },
  {
   "cell_type": "code",
   "execution_count": 39,
   "id": "c48163b6-0b3e-4d61-9d97-78b2f3f48efe",
   "metadata": {},
   "outputs": [
    {
     "name": "stdout",
     "output_type": "stream",
     "text": [
      "January  February  March  "
     ]
    }
   ],
   "source": [
    "for month_name in months.keys():\n",
    "    print(month_name, end='  ')"
   ]
  },
  {
   "cell_type": "code",
   "execution_count": 40,
   "id": "e4e28de5-fa51-4fd8-ba87-e8cae7374f6b",
   "metadata": {},
   "outputs": [
    {
     "name": "stdout",
     "output_type": "stream",
     "text": [
      "1  2  3  "
     ]
    }
   ],
   "source": [
    "for month_number in months.values():\n",
    "    print(month_number, end='  ')"
   ]
  },
  {
   "cell_type": "code",
   "execution_count": 41,
   "id": "b634bedb-aed0-4c5a-9355-625808f6742e",
   "metadata": {},
   "outputs": [],
   "source": [
    "months_view = months.keys()"
   ]
  },
  {
   "cell_type": "code",
   "execution_count": 42,
   "id": "66754a1d-a13f-4eab-ada6-0e2602fac0eb",
   "metadata": {},
   "outputs": [
    {
     "name": "stdout",
     "output_type": "stream",
     "text": [
      "January  February  March  "
     ]
    }
   ],
   "source": [
    "for key in months_view:\n",
    "    print(key, end='  ')"
   ]
  },
  {
   "cell_type": "code",
   "execution_count": 45,
   "id": "4c541ea3-b7f3-408d-ad0f-16fa3ac67c29",
   "metadata": {},
   "outputs": [],
   "source": [
    "months['December'] = 12"
   ]
  },
  {
   "cell_type": "code",
   "execution_count": 46,
   "id": "5e4bbefb-12dd-4983-a978-2da18fcbb266",
   "metadata": {},
   "outputs": [
    {
     "data": {
      "text/plain": [
       "{'January': 1, 'February': 2, 'March': 3, 'December': 12}"
      ]
     },
     "execution_count": 46,
     "metadata": {},
     "output_type": "execute_result"
    }
   ],
   "source": [
    "months"
   ]
  },
  {
   "cell_type": "code",
   "execution_count": 47,
   "id": "75a618d5-a11b-4036-b097-f7aa2e7688d8",
   "metadata": {},
   "outputs": [
    {
     "name": "stdout",
     "output_type": "stream",
     "text": [
      "January  February  March  December  "
     ]
    }
   ],
   "source": [
    "for key in months_view:\n",
    "    print(key, end='  ')"
   ]
  },
  {
   "cell_type": "code",
   "execution_count": 48,
   "id": "a3b6ea2c-4462-4eec-8e05-6a5eccd06a31",
   "metadata": {},
   "outputs": [
    {
     "data": {
      "text/plain": [
       "['January', 'February', 'March', 'December']"
      ]
     },
     "execution_count": 48,
     "metadata": {},
     "output_type": "execute_result"
    }
   ],
   "source": [
    "list(months.keys())"
   ]
  },
  {
   "cell_type": "code",
   "execution_count": 49,
   "id": "654fb30a-3963-459c-9450-b3ce0459a788",
   "metadata": {},
   "outputs": [
    {
     "data": {
      "text/plain": [
       "[1, 2, 3, 12]"
      ]
     },
     "execution_count": 49,
     "metadata": {},
     "output_type": "execute_result"
    }
   ],
   "source": [
    "list(months.values())"
   ]
  },
  {
   "cell_type": "code",
   "execution_count": 50,
   "id": "456ea40b-37c0-4650-a292-a5747c7d9b22",
   "metadata": {},
   "outputs": [
    {
     "data": {
      "text/plain": [
       "[('January', 1), ('February', 2), ('March', 3), ('December', 12)]"
      ]
     },
     "execution_count": 50,
     "metadata": {},
     "output_type": "execute_result"
    }
   ],
   "source": [
    "list(months.items())"
   ]
  },
  {
   "cell_type": "code",
   "execution_count": 52,
   "id": "441a44d2-6b60-456d-8f0f-5079a565bf7b",
   "metadata": {},
   "outputs": [
    {
     "name": "stdout",
     "output_type": "stream",
     "text": [
      "December  February  January  March  "
     ]
    }
   ],
   "source": [
    "for month_name in sorted(months.keys()):\n",
    "    print(month_name, end='  ')"
   ]
  },
  {
   "cell_type": "code",
   "execution_count": 54,
   "id": "81ea9305-0b39-4b8f-84f8-d8787761de2d",
   "metadata": {},
   "outputs": [],
   "source": [
    "roman_numerals = {'I': 1, 'II': 2, 'III': 3, 'V': 5}"
   ]
  },
  {
   "cell_type": "code",
   "execution_count": 56,
   "id": "e32f5ac3-c364-477b-a49c-93216e674ed8",
   "metadata": {},
   "outputs": [
    {
     "data": {
      "text/plain": [
       "['I', 'II', 'III', 'V']"
      ]
     },
     "execution_count": 56,
     "metadata": {},
     "output_type": "execute_result"
    }
   ],
   "source": [
    "list(roman_numerals.keys())"
   ]
  },
  {
   "cell_type": "code",
   "execution_count": 57,
   "id": "490dedf8-84df-4a64-aa6b-19bc261ca9b2",
   "metadata": {},
   "outputs": [
    {
     "data": {
      "text/plain": [
       "[1, 2, 3, 5]"
      ]
     },
     "execution_count": 57,
     "metadata": {},
     "output_type": "execute_result"
    }
   ],
   "source": [
    "list(roman_numerals.values())"
   ]
  },
  {
   "cell_type": "code",
   "execution_count": 58,
   "id": "e5a2ddc1-da1b-44ef-a2a6-8ad2f6ba5065",
   "metadata": {},
   "outputs": [
    {
     "data": {
      "text/plain": [
       "[('I', 1), ('II', 2), ('III', 3), ('V', 5)]"
      ]
     },
     "execution_count": 58,
     "metadata": {},
     "output_type": "execute_result"
    }
   ],
   "source": [
    "list(roman_numerals.items())"
   ]
  },
  {
   "cell_type": "code",
   "execution_count": 59,
   "id": "d98ec0a9-04be-4326-8876-fb1b0fe3f503",
   "metadata": {},
   "outputs": [],
   "source": [
    "#6.2.5"
   ]
  },
  {
   "cell_type": "code",
   "execution_count": 4,
   "id": "be8a07af-5af4-4500-92a5-be680dd25208",
   "metadata": {},
   "outputs": [],
   "source": [
    "country_capitals1 = {'Belgium': 'Brussels', 'Haiti': 'Port-au-Prince'}"
   ]
  },
  {
   "cell_type": "code",
   "execution_count": 1,
   "id": "86933ab6-6767-4baf-bb00-6f8a7f89fb9e",
   "metadata": {},
   "outputs": [],
   "source": [
    "country_capitals2 = {'Nepal': 'Kathmandu', 'Uruguay': 'Montevideo'}"
   ]
  },
  {
   "cell_type": "code",
   "execution_count": 2,
   "id": "66f5b57c-3d61-44e9-9f42-7ec702e155c7",
   "metadata": {},
   "outputs": [],
   "source": [
    "country_capitals3 = {'Haiti': 'Port-au-Prince', 'Belgium': 'Brussels'}"
   ]
  },
  {
   "cell_type": "code",
   "execution_count": 5,
   "id": "c3acede9-972c-45aa-a4bd-1c278fdecb5c",
   "metadata": {},
   "outputs": [
    {
     "data": {
      "text/plain": [
       "False"
      ]
     },
     "execution_count": 5,
     "metadata": {},
     "output_type": "execute_result"
    }
   ],
   "source": [
    "country_capitals1 == country_capitals2"
   ]
  },
  {
   "cell_type": "code",
   "execution_count": 6,
   "id": "dfaea060-7632-46df-81e7-982d45dcdcb7",
   "metadata": {},
   "outputs": [
    {
     "data": {
      "text/plain": [
       "True"
      ]
     },
     "execution_count": 6,
     "metadata": {},
     "output_type": "execute_result"
    }
   ],
   "source": [
    "country_capitals1 == country_capitals3"
   ]
  },
  {
   "cell_type": "code",
   "execution_count": 7,
   "id": "28a78a75-8985-4d19-bac4-02fceb8c6fb3",
   "metadata": {},
   "outputs": [
    {
     "data": {
      "text/plain": [
       "True"
      ]
     },
     "execution_count": 7,
     "metadata": {},
     "output_type": "execute_result"
    }
   ],
   "source": [
    "country_capitals1 != country_capitals2"
   ]
  },
  {
   "cell_type": "code",
   "execution_count": 8,
   "id": "5a11931b-65ca-4687-9121-ab0222d80b90",
   "metadata": {},
   "outputs": [],
   "source": [
    "#6.2.6"
   ]
  },
  {
   "cell_type": "code",
   "execution_count": 11,
   "id": "d757a277-5ebf-41b0-8d19-f796159412ef",
   "metadata": {},
   "outputs": [
    {
     "name": "stdout",
     "output_type": "stream",
     "text": [
      "Average for Susan is 92.33\n",
      "Average for Eduardo is 85.67\n",
      "Average for Azizi is 87.33\n",
      "Average for Pantipa is 93.33\n",
      "Class's average is:  89.67\n"
     ]
    }
   ],
   "source": [
    "# fig06_01.py\n",
    "\"\"\"Using a dictionary to represent an instructor's grade book.\"\"\"\n",
    "grade_book = {'Susan': [92, 85, 100], 'Eduardo': [83, 95, 79], 'Azizi': [91, 89, 82], 'Pantipa': [97, 91, 92]}\n",
    "\n",
    "all_grades_total = 0\n",
    "all_grades_count = 0\n",
    "\n",
    "for name, grades in grade_book.items():\n",
    "    total = sum(grades)\n",
    "    print(f'Average for {name} is {total/len(grades):.2f}')\n",
    "    all_grades_total += total\n",
    "    all_grades_count += len(grades)\n",
    "\n",
    "print(f\"Class's average is: {all_grades_total / all_grades_count: .2f}\")"
   ]
  },
  {
   "cell_type": "code",
   "execution_count": 39,
   "id": "5962e625-08c6-4347-a94f-36bd52bd2e4f",
   "metadata": {},
   "outputs": [
    {
     "name": "stdout",
     "output_type": "stream",
     "text": [
      "WORD        COUNT\n",
      "are         2\n",
      "away        1\n",
      "dear        1\n",
      "do          1\n",
      "gray        1\n",
      "happy       1\n",
      "how         1\n",
      "i           1\n",
      "know        1\n",
      "love        1\n",
      "make        1\n",
      "me          1\n",
      "much        1\n",
      "my          3\n",
      "never       1\n",
      "not         1\n",
      "only        1\n",
      "please      1\n",
      "skies       1\n",
      "sunshine    3\n",
      "take        1\n",
      "when        1\n",
      "will        1\n",
      "you         4\n",
      "\n",
      "Number of unique words: 24\n"
     ]
    }
   ],
   "source": [
    "# fig06_02.py\n",
    "\"\"\"Tokenizing a string and counting unique words.\"\"\"\n",
    "text = ('you are my sunshine my only sunshine ' \n",
    "       'you make me happy when skies are gray you will never know dear how much i love you ' \n",
    "       'please do not take my sunshine away')\n",
    "word_counts = {}\n",
    "\n",
    "# count occurrences of each unique word\n",
    "for word in text.split():\n",
    "    if word in word_counts:\n",
    "        word_counts[word] += 1 # update existing key-value pair\n",
    "    else:\n",
    "        word_counts[word] = 1 # insert new key-value pair\n",
    "        \n",
    "print(f'{\"WORD\":<12}COUNT')\n",
    "\n",
    "for word, count in sorted (word_counts.items()):\n",
    "    print(f'{word:<12}{count}')\n",
    "\n",
    "print('\\nNumber of unique words:', len(word_counts))"
   ]
  },
  {
   "cell_type": "code",
   "execution_count": 44,
   "id": "bd716bb0-1945-4c46-8305-fb516457b1e1",
   "metadata": {},
   "outputs": [],
   "source": [
    "#missybernskoetter"
   ]
  },
  {
   "cell_type": "code",
   "execution_count": 13,
   "id": "7ff158b4-d2ce-4f9f-91cd-5bf9edd2b183",
   "metadata": {},
   "outputs": [],
   "source": [
    "from collections import Counter"
   ]
  },
  {
   "cell_type": "code",
   "execution_count": 41,
   "id": "68190b64-2a1d-49e8-aadd-19cc100aa6c8",
   "metadata": {},
   "outputs": [],
   "source": [
    "text = ('you are my sunshine my only sunshine ' \n",
    "        'you make me happy when skies are gray you will never know dear how much i love you '\n",
    "       'please do not take my sunshine away')"
   ]
  },
  {
   "cell_type": "code",
   "execution_count": 42,
   "id": "dda6412a-e253-4ad4-a519-d6b6a85933b9",
   "metadata": {},
   "outputs": [],
   "source": [
    "counter = Counter(text.split())"
   ]
  },
  {
   "cell_type": "code",
   "execution_count": 43,
   "id": "d6ffc6ea-80a2-464a-b086-15e29619ab9d",
   "metadata": {},
   "outputs": [
    {
     "name": "stdout",
     "output_type": "stream",
     "text": [
      "are         2\n",
      "away        1\n",
      "dear        1\n",
      "do          1\n",
      "gray        1\n",
      "happy       1\n",
      "how         1\n",
      "i           1\n",
      "know        1\n",
      "love        1\n",
      "make        1\n",
      "me          1\n",
      "much        1\n",
      "my          3\n",
      "never       1\n",
      "not         1\n",
      "only        1\n",
      "please      1\n",
      "skies       1\n",
      "sunshine    3\n",
      "take        1\n",
      "when        1\n",
      "will        1\n",
      "you         4\n"
     ]
    }
   ],
   "source": [
    "for word, count in sorted (counter.items()):\n",
    "    print(f'{word:<12}{count}')"
   ]
  },
  {
   "cell_type": "code",
   "execution_count": 25,
   "id": "414f0612-f95e-486d-927d-815c78644856",
   "metadata": {},
   "outputs": [],
   "source": [
    "#6.2.8"
   ]
  },
  {
   "cell_type": "code",
   "execution_count": 26,
   "id": "e0222ea9-812a-40c8-99e6-e83d4c5b42a4",
   "metadata": {},
   "outputs": [],
   "source": [
    "country_codes = {}"
   ]
  },
  {
   "cell_type": "code",
   "execution_count": 28,
   "id": "7eb86eab-5e94-4b25-b7c5-82ef1e66b43d",
   "metadata": {},
   "outputs": [],
   "source": [
    "country_codes.update({'South Africa': 'za'})"
   ]
  },
  {
   "cell_type": "code",
   "execution_count": 29,
   "id": "ad79d22d-3d5e-455b-a58e-394403748b61",
   "metadata": {},
   "outputs": [
    {
     "data": {
      "text/plain": [
       "{'South Africa': 'za'}"
      ]
     },
     "execution_count": 29,
     "metadata": {},
     "output_type": "execute_result"
    }
   ],
   "source": [
    "country_codes"
   ]
  },
  {
   "cell_type": "code",
   "execution_count": 33,
   "id": "fe2437bc-6cbd-4e56-b0ee-44f72a36ccf4",
   "metadata": {},
   "outputs": [],
   "source": [
    "country_codes.update(Australia='ar')"
   ]
  },
  {
   "cell_type": "code",
   "execution_count": 34,
   "id": "310202f6-2a61-487e-812d-7e053b57478b",
   "metadata": {},
   "outputs": [
    {
     "data": {
      "text/plain": [
       "{'South Africa': 'za', 'Australia': 'ar'}"
      ]
     },
     "execution_count": 34,
     "metadata": {},
     "output_type": "execute_result"
    }
   ],
   "source": [
    "country_codes"
   ]
  },
  {
   "cell_type": "code",
   "execution_count": 35,
   "id": "0d3ea437-c29a-4b53-9d15-07156384d3b6",
   "metadata": {},
   "outputs": [],
   "source": [
    "country_codes.update(Australia='au')"
   ]
  },
  {
   "cell_type": "code",
   "execution_count": 36,
   "id": "b4f65363-d716-4acd-8ee2-72ccbc8c0780",
   "metadata": {},
   "outputs": [
    {
     "data": {
      "text/plain": [
       "{'South Africa': 'za', 'Australia': 'au'}"
      ]
     },
     "execution_count": 36,
     "metadata": {},
     "output_type": "execute_result"
    }
   ],
   "source": [
    "country_codes"
   ]
  },
  {
   "cell_type": "code",
   "execution_count": 37,
   "id": "38d764c5-cf52-4750-92b1-3913b59d4cca",
   "metadata": {},
   "outputs": [
    {
     "data": {
      "text/plain": [
       "{1: 'January', 2: 'February', 3: 'March'}"
      ]
     },
     "execution_count": 37,
     "metadata": {},
     "output_type": "execute_result"
    }
   ],
   "source": [
    "months = {'January': 1, 'February': 2, 'March':3}\n",
    "months2 = {number: name for name, number in months.items()}\n",
    "months2"
   ]
  },
  {
   "cell_type": "code",
   "execution_count": 45,
   "id": "9c4e9cb9-8ef0-4d49-a6f8-2706d787719b",
   "metadata": {},
   "outputs": [
    {
     "data": {
      "text/plain": [
       "{'Sue': 93.0, 'Bob': 90.0}"
      ]
     },
     "execution_count": 45,
     "metadata": {},
     "output_type": "execute_result"
    }
   ],
   "source": [
    "grades = {'Sue': [98, 87, 94], 'Bob': [84, 95, 91]}\n",
    "grades2 = {k: sum(v) / len(v) for k, v in grades.items()}\n",
    "grades2"
   ]
  },
  {
   "cell_type": "code",
   "execution_count": 46,
   "id": "e8c3d18e-82be-4d9e-aa9d-b6ca465b7f47",
   "metadata": {},
   "outputs": [],
   "source": [
    "#missybernskoetter"
   ]
  }
 ],
 "metadata": {
  "kernelspec": {
   "display_name": "Python 3 (ipykernel)",
   "language": "python",
   "name": "python3"
  },
  "language_info": {
   "codemirror_mode": {
    "name": "ipython",
    "version": 3
   },
   "file_extension": ".py",
   "mimetype": "text/x-python",
   "name": "python",
   "nbconvert_exporter": "python",
   "pygments_lexer": "ipython3",
   "version": "3.9.12"
  }
 },
 "nbformat": 4,
 "nbformat_minor": 5
}
