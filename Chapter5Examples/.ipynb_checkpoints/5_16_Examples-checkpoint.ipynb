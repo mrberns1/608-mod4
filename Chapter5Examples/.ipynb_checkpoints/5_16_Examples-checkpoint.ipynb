{
 "cells": [
  {
   "cell_type": "code",
   "execution_count": 1,
   "id": "b00025fd-0cc6-4777-a0b4-fb54a9bb8579",
   "metadata": {},
   "outputs": [],
   "source": [
    "a = [[77, 68, 86, 73], # first student's grades\n",
    "     [96, 87, 89, 81], # second student's grades\n",
    "     [70, 90, 86, 81]] # third student's grades"
   ]
  },
  {
   "cell_type": "code",
   "execution_count": 2,
   "id": "cfb92ae4-a871-4e99-9a2d-b2a408a81966",
   "metadata": {},
   "outputs": [
    {
     "name": "stdout",
     "output_type": "stream",
     "text": [
      "77 \n",
      "68 \n",
      "86 \n",
      "73 \n",
      "96 \n",
      "87 \n",
      "89 \n",
      "81 \n",
      "70 \n",
      "90 \n",
      "86 \n",
      "81 \n"
     ]
    }
   ],
   "source": [
    "for row in a :\n",
    "    for item in row:\n",
    "        print(item, end=' ')\n",
    "        print()"
   ]
  },
  {
   "cell_type": "code",
   "execution_count": 5,
   "id": "1aeaa1f3-f68c-474e-a8d1-fa1c7c6b4afd",
   "metadata": {},
   "outputs": [
    {
     "name": "stdout",
     "output_type": "stream",
     "text": [
      "a[0][0]=77  a[0][1]=68  a[0][2]=86  a[0][3]=73  a[1][0]=96  a[1][1]=87  a[1][2]=89  a[1][3]=81  a[2][0]=70  a[2][1]=90  a[2][2]=86  a[2][3]=81  "
     ]
    }
   ],
   "source": [
    "for i, row in enumerate(a):\n",
    "    for j, item in enumerate(row):\n",
    "        print(f'a[{i}][{j}]={item} ', end=' ')"
   ]
  },
  {
   "cell_type": "code",
   "execution_count": 6,
   "id": "14dd06e7-f857-43ad-97f6-f0ad83cae5b5",
   "metadata": {},
   "outputs": [],
   "source": [
    "#self checks"
   ]
  },
  {
   "cell_type": "code",
   "execution_count": 7,
   "id": "532450ee-f32f-4f91-afc9-b2063979fb89",
   "metadata": {},
   "outputs": [],
   "source": [
    "t = [[10, 7, 3], [20, 4, 17]]"
   ]
  },
  {
   "cell_type": "code",
   "execution_count": 8,
   "id": "601aae64-e004-487f-aa0f-121bb3bda02d",
   "metadata": {},
   "outputs": [],
   "source": [
    "total = 0"
   ]
  },
  {
   "cell_type": "code",
   "execution_count": 9,
   "id": "44294eb2-4358-474a-a513-d95d39d90bce",
   "metadata": {},
   "outputs": [],
   "source": [
    "items = 0"
   ]
  },
  {
   "cell_type": "code",
   "execution_count": 10,
   "id": "376716e9-e343-4f20-83bd-82ab05447081",
   "metadata": {},
   "outputs": [],
   "source": [
    "for row in t:\n",
    "    for item in row:\n",
    "        total += item\n",
    "        items += 1"
   ]
  },
  {
   "cell_type": "code",
   "execution_count": 11,
   "id": "bfb0e88e-03b3-483f-867a-2c7e076c5db3",
   "metadata": {},
   "outputs": [
    {
     "data": {
      "text/plain": [
       "10.166666666666666"
      ]
     },
     "execution_count": 11,
     "metadata": {},
     "output_type": "execute_result"
    }
   ],
   "source": [
    "total / items"
   ]
  },
  {
   "cell_type": "code",
   "execution_count": 12,
   "id": "cc386ea2-f9a0-4d37-ab4f-ff983d5d47f3",
   "metadata": {},
   "outputs": [],
   "source": [
    "#missybernskoetter"
   ]
  }
 ],
 "metadata": {
  "kernelspec": {
   "display_name": "Python 3 (ipykernel)",
   "language": "python",
   "name": "python3"
  },
  "language_info": {
   "codemirror_mode": {
    "name": "ipython",
    "version": 3
   },
   "file_extension": ".py",
   "mimetype": "text/x-python",
   "name": "python",
   "nbconvert_exporter": "python",
   "pygments_lexer": "ipython3",
   "version": "3.9.12"
  }
 },
 "nbformat": 4,
 "nbformat_minor": 5
}
