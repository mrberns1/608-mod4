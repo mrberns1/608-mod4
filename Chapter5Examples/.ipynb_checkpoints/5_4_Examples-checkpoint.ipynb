{
 "cells": [
  {
   "cell_type": "code",
   "execution_count": 1,
   "id": "bece595e-4f57-4f32-984f-d26b8de854be",
   "metadata": {},
   "outputs": [],
   "source": [
    "student_tuple = ('Amanda', [98, 85, 87])"
   ]
  },
  {
   "cell_type": "code",
   "execution_count": 2,
   "id": "68b13d43-31c9-44bd-bf3a-8cc3cd0019df",
   "metadata": {},
   "outputs": [],
   "source": [
    "first_name, grades = student_tuple"
   ]
  },
  {
   "cell_type": "code",
   "execution_count": 3,
   "id": "f714e059-8dca-44d7-9253-5df1ebe9a318",
   "metadata": {},
   "outputs": [
    {
     "data": {
      "text/plain": [
       "'Amanda'"
      ]
     },
     "execution_count": 3,
     "metadata": {},
     "output_type": "execute_result"
    }
   ],
   "source": [
    "first_name"
   ]
  },
  {
   "cell_type": "code",
   "execution_count": 4,
   "id": "598789de-cccc-411b-b696-2c95a04b4e9e",
   "metadata": {},
   "outputs": [
    {
     "data": {
      "text/plain": [
       "[98, 85, 87]"
      ]
     },
     "execution_count": 4,
     "metadata": {},
     "output_type": "execute_result"
    }
   ],
   "source": [
    "grades"
   ]
  },
  {
   "cell_type": "code",
   "execution_count": 5,
   "id": "bbd505c7-203e-4c59-90a5-8e1dadf73c7f",
   "metadata": {},
   "outputs": [],
   "source": [
    "first, second = 'hi'"
   ]
  },
  {
   "cell_type": "code",
   "execution_count": 6,
   "id": "986c4e81-c543-4623-bd18-b18ecef7848c",
   "metadata": {},
   "outputs": [
    {
     "name": "stdout",
     "output_type": "stream",
     "text": [
      "h i\n"
     ]
    }
   ],
   "source": [
    "print(f'{first} {second}')"
   ]
  },
  {
   "cell_type": "code",
   "execution_count": 7,
   "id": "73c05f86-afe8-4da7-bf9c-f1d959f1bdc3",
   "metadata": {},
   "outputs": [],
   "source": [
    "number1, number2, number3 = [2, 3, 5]"
   ]
  },
  {
   "cell_type": "code",
   "execution_count": 8,
   "id": "915fefb5-717f-440c-871b-a3c89381a7d3",
   "metadata": {},
   "outputs": [
    {
     "name": "stdout",
     "output_type": "stream",
     "text": [
      "2 3 5\n"
     ]
    }
   ],
   "source": [
    "print(f'{number1} {number2} {number3}')"
   ]
  },
  {
   "cell_type": "code",
   "execution_count": 9,
   "id": "7cec6f52-54fb-4f0e-ae4b-eac03ca7da72",
   "metadata": {},
   "outputs": [],
   "source": [
    "number1, number2, number3 = range(10, 40, 10)"
   ]
  },
  {
   "cell_type": "code",
   "execution_count": 10,
   "id": "eebb3d7f-fcae-49ad-8870-e146b54350c4",
   "metadata": {},
   "outputs": [
    {
     "name": "stdout",
     "output_type": "stream",
     "text": [
      "10 20 30\n"
     ]
    }
   ],
   "source": [
    "print(f'{number1} {number2} {number3}')"
   ]
  },
  {
   "cell_type": "code",
   "execution_count": 11,
   "id": "a89564a6-aec0-4d56-90f9-a7a58065fc87",
   "metadata": {},
   "outputs": [],
   "source": [
    "number1 = 99"
   ]
  },
  {
   "cell_type": "code",
   "execution_count": 12,
   "id": "408bff53-55b5-4d70-a053-30648f190a2b",
   "metadata": {},
   "outputs": [],
   "source": [
    "number2 = 22"
   ]
  },
  {
   "cell_type": "code",
   "execution_count": 13,
   "id": "a593caba-60ca-4c08-9a1b-3e99dadfd7e9",
   "metadata": {},
   "outputs": [],
   "source": [
    "number1, number2 = (number2, number1)"
   ]
  },
  {
   "cell_type": "code",
   "execution_count": 14,
   "id": "d9966e11-6e2a-47f1-9e5e-ba83caff496b",
   "metadata": {},
   "outputs": [
    {
     "name": "stdout",
     "output_type": "stream",
     "text": [
      " number1 = 22; number2 = 99\n"
     ]
    }
   ],
   "source": [
    "print(f' number1 = {number1}; number2 = {number2}')"
   ]
  },
  {
   "cell_type": "code",
   "execution_count": 15,
   "id": "88b5708c-5edd-44df-8cde-b018956cc71c",
   "metadata": {},
   "outputs": [],
   "source": [
    "colors = ['red', 'orange', 'yellow']"
   ]
  },
  {
   "cell_type": "code",
   "execution_count": 16,
   "id": "86bcb517-04e9-475b-87c0-33cf90e49962",
   "metadata": {},
   "outputs": [
    {
     "data": {
      "text/plain": [
       "[(0, 'red'), (1, 'orange'), (2, 'yellow')]"
      ]
     },
     "execution_count": 16,
     "metadata": {},
     "output_type": "execute_result"
    }
   ],
   "source": [
    "list(enumerate(colors))"
   ]
  },
  {
   "cell_type": "code",
   "execution_count": 18,
   "id": "e766b892-a3b4-432b-b0fb-6b4a287dd6f0",
   "metadata": {},
   "outputs": [
    {
     "data": {
      "text/plain": [
       "((0, 'red'), (1, 'orange'), (2, 'yellow'))"
      ]
     },
     "execution_count": 18,
     "metadata": {},
     "output_type": "execute_result"
    }
   ],
   "source": [
    "tuple(enumerate(colors))"
   ]
  },
  {
   "cell_type": "code",
   "execution_count": 19,
   "id": "ffe1ff35-aa0c-4ed0-b32b-cf2a9c8f1cbf",
   "metadata": {},
   "outputs": [
    {
     "name": "stdout",
     "output_type": "stream",
     "text": [
      "0: red\n",
      "1: orange\n",
      "2: yellow\n"
     ]
    }
   ],
   "source": [
    "for index, value in enumerate(colors):\n",
    "    print(f'{index}: {value}')"
   ]
  },
  {
   "cell_type": "code",
   "execution_count": 20,
   "id": "81ce39c0-c4b1-4c69-a52c-74e15f915ad8",
   "metadata": {},
   "outputs": [],
   "source": [
    "# fig05_01.py"
   ]
  },
  {
   "cell_type": "code",
   "execution_count": 21,
   "id": "f61d197b-5134-4a98-b176-c0a68ee21ffc",
   "metadata": {},
   "outputs": [
    {
     "data": {
      "text/plain": [
       "'displaying the bar chart'"
      ]
     },
     "execution_count": 21,
     "metadata": {},
     "output_type": "execute_result"
    }
   ],
   "source": [
    "\"\"\"displaying the bar chart\"\"\""
   ]
  },
  {
   "cell_type": "code",
   "execution_count": 22,
   "id": "2123bb27-9a2d-46af-8968-90724bd59d4b",
   "metadata": {},
   "outputs": [],
   "source": [
    "numbers = [19, 3, 15, 7, 11]"
   ]
  },
  {
   "cell_type": "code",
   "execution_count": 23,
   "id": "e24c27f6-1438-4167-81da-3cec05badb6a",
   "metadata": {},
   "outputs": [
    {
     "name": "stdout",
     "output_type": "stream",
     "text": [
      "\n",
      "Creating a bar chart from numbers:\n",
      "Index   Value  Bar\n",
      "    0      19  *******************\n",
      "    1       3  ***\n",
      "    2      15  ***************\n",
      "    3       7  *******\n",
      "    4      11  ***********\n"
     ]
    }
   ],
   "source": [
    "print('\\nCreating a bar chart from numbers:')\n",
    "print(f'Index{\"Value\": >8}  Bar')\n",
    "\n",
    "for index, value in enumerate(numbers):\n",
    "    print(f'{index:>5}{value:>8}  {\"*\" * value}')"
   ]
  },
  {
   "cell_type": "code",
   "execution_count": 24,
   "id": "f00ffb5d-3693-4976-83be-c87c8143e2ff",
   "metadata": {},
   "outputs": [],
   "source": [
    "#self check"
   ]
  },
  {
   "cell_type": "code",
   "execution_count": 25,
   "id": "30fe3bbf-229c-49ad-b477-092f69435f24",
   "metadata": {},
   "outputs": [],
   "source": [
    "high_low = ('Monday', 87, 65)"
   ]
  },
  {
   "cell_type": "code",
   "execution_count": 26,
   "id": "15e6f659-7092-4460-a738-e528d89e9d4f",
   "metadata": {},
   "outputs": [
    {
     "data": {
      "text/plain": [
       "('Monday', 87, 65)"
      ]
     },
     "execution_count": 26,
     "metadata": {},
     "output_type": "execute_result"
    }
   ],
   "source": [
    "high_low"
   ]
  },
  {
   "cell_type": "code",
   "execution_count": 27,
   "id": "365fddab-5363-4f20-927b-6c2847b9a167",
   "metadata": {},
   "outputs": [
    {
     "name": "stdout",
     "output_type": "stream",
     "text": [
      "Monday: High=87, Low=65\n"
     ]
    }
   ],
   "source": [
    "print(f'{high_low[0]}: High={high_low[1]}, Low={high_low[2]}')"
   ]
  },
  {
   "cell_type": "code",
   "execution_count": 28,
   "id": "80558548-6392-4b00-b2c0-57b38cbaf77d",
   "metadata": {},
   "outputs": [
    {
     "ename": "ValueError",
     "evalue": "too many values to unpack (expected 2)",
     "output_type": "error",
     "traceback": [
      "\u001b[1;31m---------------------------------------------------------------------------\u001b[0m",
      "\u001b[1;31mValueError\u001b[0m                                Traceback (most recent call last)",
      "Cell \u001b[1;32mIn [28], line 1\u001b[0m\n\u001b[1;32m----> 1\u001b[0m day, high \u001b[38;5;241m=\u001b[39m high_low\n",
      "\u001b[1;31mValueError\u001b[0m: too many values to unpack (expected 2)"
     ]
    }
   ],
   "source": [
    "day, high = high_low"
   ]
  },
  {
   "cell_type": "code",
   "execution_count": 29,
   "id": "014be58f-4d92-47cc-b574-f6ee44b05b91",
   "metadata": {},
   "outputs": [],
   "source": [
    "names = ['Amanda', 'Sam', 'David']"
   ]
  },
  {
   "cell_type": "code",
   "execution_count": 30,
   "id": "1ae9ed83-613e-4a23-b971-2615d97a0735",
   "metadata": {},
   "outputs": [
    {
     "name": "stdout",
     "output_type": "stream",
     "text": [
      "0: Amanda\n",
      "1: Sam\n",
      "2: David\n"
     ]
    }
   ],
   "source": [
    "for i, name in enumerate(names):\n",
    "    print(f'{i}: {name}')"
   ]
  },
  {
   "cell_type": "code",
   "execution_count": 31,
   "id": "631090be-7c0a-40da-8b0f-689a94c2afd1",
   "metadata": {},
   "outputs": [],
   "source": [
    "#5.4 Examples"
   ]
  },
  {
   "cell_type": "code",
   "execution_count": 32,
   "id": "bd5b4648-e46c-4d4e-8699-59d1e7f61657",
   "metadata": {},
   "outputs": [],
   "source": [
    "#missybernskoetter"
   ]
  }
 ],
 "metadata": {
  "kernelspec": {
   "display_name": "Python 3 (ipykernel)",
   "language": "python",
   "name": "python3"
  },
  "language_info": {
   "codemirror_mode": {
    "name": "ipython",
    "version": 3
   },
   "file_extension": ".py",
   "mimetype": "text/x-python",
   "name": "python",
   "nbconvert_exporter": "python",
   "pygments_lexer": "ipython3",
   "version": "3.9.12"
  }
 },
 "nbformat": 4,
 "nbformat_minor": 5
}
