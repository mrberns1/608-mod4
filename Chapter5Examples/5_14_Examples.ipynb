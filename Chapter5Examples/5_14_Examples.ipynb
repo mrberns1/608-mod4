{
 "cells": [
  {
   "cell_type": "code",
   "execution_count": 1,
   "id": "a7241e7c-996c-4e84-a796-a5105670a7fc",
   "metadata": {},
   "outputs": [],
   "source": [
    "numbers = [10, 3, 7, 1, 9, 4, 2, 8, 5, 6]"
   ]
  },
  {
   "cell_type": "code",
   "execution_count": 2,
   "id": "b42d0a5a-ae18-4695-8f71-59e530ebcb57",
   "metadata": {},
   "outputs": [],
   "source": [
    "def is_odd(x):\n",
    "    \"\"\"Returns True only if x is odd.\"\"\"\n",
    "    return x % 2 != 0"
   ]
  },
  {
   "cell_type": "code",
   "execution_count": 3,
   "id": "3fc65307-5fae-401b-82ac-f55786bce885",
   "metadata": {},
   "outputs": [
    {
     "data": {
      "text/plain": [
       "[3, 7, 1, 9, 5]"
      ]
     },
     "execution_count": 3,
     "metadata": {},
     "output_type": "execute_result"
    }
   ],
   "source": [
    "list(filter(is_odd, numbers))"
   ]
  },
  {
   "cell_type": "code",
   "execution_count": 4,
   "id": "95c879c3-eb20-4163-b6cb-1a0f02c81051",
   "metadata": {},
   "outputs": [
    {
     "data": {
      "text/plain": [
       "[3, 7, 1, 9, 5]"
      ]
     },
     "execution_count": 4,
     "metadata": {},
     "output_type": "execute_result"
    }
   ],
   "source": [
    "[item for item in numbers if is_odd(item)]"
   ]
  },
  {
   "cell_type": "code",
   "execution_count": 5,
   "id": "a8381ca1-ab86-48ea-bc4e-f82522621bc6",
   "metadata": {},
   "outputs": [
    {
     "data": {
      "text/plain": [
       "[3, 7, 1, 9, 5]"
      ]
     },
     "execution_count": 5,
     "metadata": {},
     "output_type": "execute_result"
    }
   ],
   "source": [
    "list(filter(lambda x: x % 2 != 0, numbers))"
   ]
  },
  {
   "cell_type": "code",
   "execution_count": 6,
   "id": "d7514711-88fb-44df-af67-fc45fc4a33b1",
   "metadata": {},
   "outputs": [
    {
     "data": {
      "text/plain": [
       "[10, 3, 7, 1, 9, 4, 2, 8, 5, 6]"
      ]
     },
     "execution_count": 6,
     "metadata": {},
     "output_type": "execute_result"
    }
   ],
   "source": [
    "numbers "
   ]
  },
  {
   "cell_type": "code",
   "execution_count": 7,
   "id": "94971b9a-e917-4828-aa3b-52b6b7ff4aae",
   "metadata": {},
   "outputs": [
    {
     "data": {
      "text/plain": [
       "[100, 9, 49, 1, 81, 16, 4, 64, 25, 36]"
      ]
     },
     "execution_count": 7,
     "metadata": {},
     "output_type": "execute_result"
    }
   ],
   "source": [
    "list(map(lambda x: x ** 2, numbers))"
   ]
  },
  {
   "cell_type": "code",
   "execution_count": 8,
   "id": "d7cda94c-e687-4063-9d6e-d2f1f79a992a",
   "metadata": {},
   "outputs": [
    {
     "data": {
      "text/plain": [
       "[100, 9, 49, 1, 81, 16, 4, 64, 25, 36]"
      ]
     },
     "execution_count": 8,
     "metadata": {},
     "output_type": "execute_result"
    }
   ],
   "source": [
    "[item ** 2 for item in numbers]"
   ]
  },
  {
   "cell_type": "code",
   "execution_count": 9,
   "id": "3b0eeb5e-6f6f-412d-9510-5a4d9d00db3c",
   "metadata": {},
   "outputs": [
    {
     "data": {
      "text/plain": [
       "[9, 49, 1, 81, 25]"
      ]
     },
     "execution_count": 9,
     "metadata": {},
     "output_type": "execute_result"
    }
   ],
   "source": [
    "list(map(lambda x: x ** 2,\n",
    "        filter(lambda x: x % 2 != 0, numbers)))"
   ]
  },
  {
   "cell_type": "code",
   "execution_count": 10,
   "id": "09abd4af-ee07-4831-9996-9f5230b75d86",
   "metadata": {},
   "outputs": [],
   "source": [
    "#self checks"
   ]
  },
  {
   "cell_type": "code",
   "execution_count": 11,
   "id": "ace863ec-7b79-48d1-97fd-fd1cc3d52bb1",
   "metadata": {},
   "outputs": [],
   "source": [
    "numbers = list(range(1, 16))"
   ]
  },
  {
   "cell_type": "code",
   "execution_count": 12,
   "id": "66df7ecd-cb26-4ab5-9cff-cf014b5cb9ee",
   "metadata": {},
   "outputs": [
    {
     "data": {
      "text/plain": [
       "[1, 2, 3, 4, 5, 6, 7, 8, 9, 10, 11, 12, 13, 14, 15]"
      ]
     },
     "execution_count": 12,
     "metadata": {},
     "output_type": "execute_result"
    }
   ],
   "source": [
    "numbers"
   ]
  },
  {
   "cell_type": "code",
   "execution_count": 13,
   "id": "e962c56b-c387-4d35-9908-816d7ee802e3",
   "metadata": {},
   "outputs": [
    {
     "data": {
      "text/plain": [
       "[2, 4, 6, 8, 10, 12, 14]"
      ]
     },
     "execution_count": 13,
     "metadata": {},
     "output_type": "execute_result"
    }
   ],
   "source": [
    "list(filter(lambda x: x % 2 == 0, numbers))"
   ]
  },
  {
   "cell_type": "code",
   "execution_count": 14,
   "id": "ec02e369-963c-407a-a7f3-7211633c558b",
   "metadata": {},
   "outputs": [
    {
     "data": {
      "text/plain": [
       "[1, 4, 9, 16, 25, 36, 49, 64, 81, 100, 121, 144, 169, 196, 225]"
      ]
     },
     "execution_count": 14,
     "metadata": {},
     "output_type": "execute_result"
    }
   ],
   "source": [
    "list(map(lambda x: x ** 2, numbers))"
   ]
  },
  {
   "cell_type": "code",
   "execution_count": 15,
   "id": "5e178bc6-0e83-49be-a8b7-f2dea60d18ca",
   "metadata": {},
   "outputs": [
    {
     "data": {
      "text/plain": [
       "[4, 16, 36, 64, 100, 144, 196]"
      ]
     },
     "execution_count": 15,
     "metadata": {},
     "output_type": "execute_result"
    }
   ],
   "source": [
    "list(map(lambda x: x**2, filter(lambda x: x % 2 == 0, numbers)))"
   ]
  },
  {
   "cell_type": "code",
   "execution_count": 16,
   "id": "7e8c61c1-4580-4ffc-a685-135de9c5b0d3",
   "metadata": {},
   "outputs": [],
   "source": [
    "fahrenheit = [41, 32, 212]"
   ]
  },
  {
   "cell_type": "code",
   "execution_count": 17,
   "id": "4e6ec566-ebf9-47dd-8873-a18d4ddabf4a",
   "metadata": {},
   "outputs": [
    {
     "data": {
      "text/plain": [
       "[(41, 5.0), (32, 0.0), (212, 100.0)]"
      ]
     },
     "execution_count": 17,
     "metadata": {},
     "output_type": "execute_result"
    }
   ],
   "source": [
    "list(map(lambda x: (x, (x-32) * 5 / 9), fahrenheit))"
   ]
  },
  {
   "cell_type": "code",
   "execution_count": 18,
   "id": "15a91f33-aad3-4824-9beb-1321c934ff19",
   "metadata": {},
   "outputs": [],
   "source": [
    "#missybernskoetter"
   ]
  }
 ],
 "metadata": {
  "kernelspec": {
   "display_name": "Python 3 (ipykernel)",
   "language": "python",
   "name": "python3"
  },
  "language_info": {
   "codemirror_mode": {
    "name": "ipython",
    "version": 3
   },
   "file_extension": ".py",
   "mimetype": "text/x-python",
   "name": "python",
   "nbconvert_exporter": "python",
   "pygments_lexer": "ipython3",
   "version": "3.9.12"
  }
 },
 "nbformat": 4,
 "nbformat_minor": 5
}
