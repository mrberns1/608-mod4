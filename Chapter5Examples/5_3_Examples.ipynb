{
 "cells": [
  {
   "cell_type": "code",
   "execution_count": 1,
   "id": "db855f00-3db9-4a29-b913-c8f4b9e47887",
   "metadata": {},
   "outputs": [],
   "source": [
    "student_tuple = ()"
   ]
  },
  {
   "cell_type": "code",
   "execution_count": 2,
   "id": "ed081a76-c5ea-47ad-b6ec-70b7b036c5c8",
   "metadata": {},
   "outputs": [
    {
     "data": {
      "text/plain": [
       "()"
      ]
     },
     "execution_count": 2,
     "metadata": {},
     "output_type": "execute_result"
    }
   ],
   "source": [
    "student_tuple"
   ]
  },
  {
   "cell_type": "code",
   "execution_count": 3,
   "id": "b8714201-8c6b-41f2-8caa-b767e7e1cd06",
   "metadata": {},
   "outputs": [
    {
     "data": {
      "text/plain": [
       "0"
      ]
     },
     "execution_count": 3,
     "metadata": {},
     "output_type": "execute_result"
    }
   ],
   "source": [
    "len(student_tuple)"
   ]
  },
  {
   "cell_type": "code",
   "execution_count": 4,
   "id": "1326f00b-3bb5-4394-a12f-f4f6a90d8b15",
   "metadata": {},
   "outputs": [],
   "source": [
    "student_tuple = 'John', 'Green', 3.3"
   ]
  },
  {
   "cell_type": "code",
   "execution_count": 5,
   "id": "fdb25ccd-dec7-4c01-9c9b-2640460546d7",
   "metadata": {},
   "outputs": [
    {
     "data": {
      "text/plain": [
       "('John', 'Green', 3.3)"
      ]
     },
     "execution_count": 5,
     "metadata": {},
     "output_type": "execute_result"
    }
   ],
   "source": [
    "student_tuple"
   ]
  },
  {
   "cell_type": "code",
   "execution_count": 6,
   "id": "1b05cc0d-f6ac-463c-9eb3-a62794c3d1c6",
   "metadata": {},
   "outputs": [
    {
     "data": {
      "text/plain": [
       "3"
      ]
     },
     "execution_count": 6,
     "metadata": {},
     "output_type": "execute_result"
    }
   ],
   "source": [
    "len(student_tuple)"
   ]
  },
  {
   "cell_type": "code",
   "execution_count": 7,
   "id": "1e2775e1-c574-43f6-9e14-aad4352f4452",
   "metadata": {},
   "outputs": [],
   "source": [
    "another_student_tuple = ('Mary', 'Red', 3.3)"
   ]
  },
  {
   "cell_type": "code",
   "execution_count": 9,
   "id": "ffe0b39b-6b83-4d5f-aee9-c108f136aecf",
   "metadata": {},
   "outputs": [
    {
     "data": {
      "text/plain": [
       "('Mary', 'Red', 3.3)"
      ]
     },
     "execution_count": 9,
     "metadata": {},
     "output_type": "execute_result"
    }
   ],
   "source": [
    "another_student_tuple"
   ]
  },
  {
   "cell_type": "code",
   "execution_count": 10,
   "id": "f49433f7-c65f-4bbc-aad9-7eaa1ba7b9d7",
   "metadata": {},
   "outputs": [],
   "source": [
    "a_singleton_tuple = ('red',) #note the comma"
   ]
  },
  {
   "cell_type": "code",
   "execution_count": 11,
   "id": "f4163999-cc7a-44b3-940a-3e75b53f09a6",
   "metadata": {},
   "outputs": [
    {
     "data": {
      "text/plain": [
       "('red',)"
      ]
     },
     "execution_count": 11,
     "metadata": {},
     "output_type": "execute_result"
    }
   ],
   "source": [
    "a_singleton_tuple"
   ]
  },
  {
   "cell_type": "code",
   "execution_count": 12,
   "id": "f3860312-0870-4a8d-9009-58e460efcdfc",
   "metadata": {},
   "outputs": [],
   "source": [
    "time_tuple = (9, 16, 1)"
   ]
  },
  {
   "cell_type": "code",
   "execution_count": 13,
   "id": "4b03f5a4-43e5-4c76-b97b-ed618518e101",
   "metadata": {},
   "outputs": [
    {
     "data": {
      "text/plain": [
       "(9, 16, 1)"
      ]
     },
     "execution_count": 13,
     "metadata": {},
     "output_type": "execute_result"
    }
   ],
   "source": [
    "time_tuple"
   ]
  },
  {
   "cell_type": "code",
   "execution_count": 14,
   "id": "06ff1da4-9c93-46f0-bc12-73c577947d69",
   "metadata": {},
   "outputs": [
    {
     "data": {
      "text/plain": [
       "33361"
      ]
     },
     "execution_count": 14,
     "metadata": {},
     "output_type": "execute_result"
    }
   ],
   "source": [
    "time_tuple[0] * 3600 + time_tuple[1] * 60 + time_tuple[2]"
   ]
  },
  {
   "cell_type": "code",
   "execution_count": 15,
   "id": "a977a564-5602-4127-91f4-08b1966fad04",
   "metadata": {},
   "outputs": [],
   "source": [
    "tuple1 = (10, 20, 30)"
   ]
  },
  {
   "cell_type": "code",
   "execution_count": 16,
   "id": "5a33bab8-a325-4a07-89b0-07190c19af92",
   "metadata": {},
   "outputs": [],
   "source": [
    "tuple2 = tuple1"
   ]
  },
  {
   "cell_type": "code",
   "execution_count": 17,
   "id": "4a653e75-10a0-4291-bca5-7058a15954e2",
   "metadata": {},
   "outputs": [
    {
     "data": {
      "text/plain": [
       "(10, 20, 30)"
      ]
     },
     "execution_count": 17,
     "metadata": {},
     "output_type": "execute_result"
    }
   ],
   "source": [
    "tuple2"
   ]
  },
  {
   "cell_type": "code",
   "execution_count": 18,
   "id": "5a7b1207-5e14-44e5-a016-9d5eb7328ab0",
   "metadata": {},
   "outputs": [],
   "source": [
    "numbers = [1, 2, 3, 4, 5]"
   ]
  },
  {
   "cell_type": "code",
   "execution_count": 19,
   "id": "1b6b017a-040b-4b29-8012-714ae03a2439",
   "metadata": {},
   "outputs": [],
   "source": [
    "numbers += (6, 7)"
   ]
  },
  {
   "cell_type": "code",
   "execution_count": 20,
   "id": "1adce5c4-f998-4933-b479-f3ddd7496495",
   "metadata": {},
   "outputs": [
    {
     "data": {
      "text/plain": [
       "[1, 2, 3, 4, 5, 6, 7]"
      ]
     },
     "execution_count": 20,
     "metadata": {},
     "output_type": "execute_result"
    }
   ],
   "source": [
    "numbers"
   ]
  },
  {
   "cell_type": "code",
   "execution_count": 21,
   "id": "ed4a45b3-5992-45b7-91b5-ef64f6157460",
   "metadata": {},
   "outputs": [],
   "source": [
    "student_tuple = ('Amanda', 'Blue', [98, 75, 87])"
   ]
  },
  {
   "cell_type": "code",
   "execution_count": 22,
   "id": "0964b607-ef11-4397-934d-30bff4e1c057",
   "metadata": {},
   "outputs": [],
   "source": [
    "student_tuple[2][1] = 85"
   ]
  },
  {
   "cell_type": "code",
   "execution_count": 23,
   "id": "a4f29723-6ccd-48cf-958c-5771e0d3de46",
   "metadata": {},
   "outputs": [
    {
     "data": {
      "text/plain": [
       "('Amanda', 'Blue', [98, 85, 87])"
      ]
     },
     "execution_count": 23,
     "metadata": {},
     "output_type": "execute_result"
    }
   ],
   "source": [
    "student_tuple"
   ]
  },
  {
   "cell_type": "code",
   "execution_count": 24,
   "id": "d00cb36d-b37e-4440-aef7-926f7d4cf21a",
   "metadata": {},
   "outputs": [],
   "source": [
    "#self check"
   ]
  },
  {
   "cell_type": "code",
   "execution_count": 25,
   "id": "a03ffbe0-4504-4020-b373-9d73c90296fb",
   "metadata": {},
   "outputs": [],
   "source": [
    "single = (123.45,)"
   ]
  },
  {
   "cell_type": "code",
   "execution_count": 26,
   "id": "dd90213d-3b2a-49ba-93e2-642eeb78f1a9",
   "metadata": {},
   "outputs": [
    {
     "data": {
      "text/plain": [
       "(123.45,)"
      ]
     },
     "execution_count": 26,
     "metadata": {},
     "output_type": "execute_result"
    }
   ],
   "source": [
    "single"
   ]
  },
  {
   "cell_type": "code",
   "execution_count": 27,
   "id": "6b8ba59b-df27-4b42-91c8-7bbb16a9fa97",
   "metadata": {},
   "outputs": [
    {
     "ename": "TypeError",
     "evalue": "can only concatenate list (not \"tuple\") to list",
     "output_type": "error",
     "traceback": [
      "\u001b[1;31m---------------------------------------------------------------------------\u001b[0m",
      "\u001b[1;31mTypeError\u001b[0m                                 Traceback (most recent call last)",
      "Cell \u001b[1;32mIn [27], line 1\u001b[0m\n\u001b[1;32m----> 1\u001b[0m \u001b[43m[\u001b[49m\u001b[38;5;241;43m1\u001b[39;49m\u001b[43m,\u001b[49m\u001b[43m \u001b[49m\u001b[38;5;241;43m2\u001b[39;49m\u001b[43m,\u001b[49m\u001b[43m \u001b[49m\u001b[38;5;241;43m3\u001b[39;49m\u001b[43m]\u001b[49m\u001b[43m \u001b[49m\u001b[38;5;241;43m+\u001b[39;49m\u001b[43m \u001b[49m\u001b[43m(\u001b[49m\u001b[38;5;241;43m4\u001b[39;49m\u001b[43m,\u001b[49m\u001b[43m \u001b[49m\u001b[38;5;241;43m5\u001b[39;49m\u001b[43m,\u001b[49m\u001b[43m \u001b[49m\u001b[38;5;241;43m6\u001b[39;49m\u001b[43m)\u001b[49m\n",
      "\u001b[1;31mTypeError\u001b[0m: can only concatenate list (not \"tuple\") to list"
     ]
    }
   ],
   "source": [
    "[1, 2, 3] + (4, 5, 6)"
   ]
  },
  {
   "cell_type": "code",
   "execution_count": 28,
   "id": "3f7a247b-81a7-4cc6-ab20-3fcb616a82e2",
   "metadata": {},
   "outputs": [],
   "source": [
    "#tuples"
   ]
  },
  {
   "cell_type": "code",
   "execution_count": 29,
   "id": "499d35cc-7d11-4d09-970e-00baa3559379",
   "metadata": {},
   "outputs": [],
   "source": [
    "#missybernskoetter"
   ]
  }
 ],
 "metadata": {
  "kernelspec": {
   "display_name": "Python 3 (ipykernel)",
   "language": "python",
   "name": "python3"
  },
  "language_info": {
   "codemirror_mode": {
    "name": "ipython",
    "version": 3
   },
   "file_extension": ".py",
   "mimetype": "text/x-python",
   "name": "python",
   "nbconvert_exporter": "python",
   "pygments_lexer": "ipython3",
   "version": "3.9.12"
  }
 },
 "nbformat": 4,
 "nbformat_minor": 5
}
